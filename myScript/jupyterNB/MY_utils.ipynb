{
 "cells": [
  {
   "cell_type": "code",
   "execution_count": 1,
   "metadata": {},
   "outputs": [
    {
     "ename": "ModuleNotFoundError",
     "evalue": "No module named 'numpy'",
     "output_type": "error",
     "traceback": [
      "\u001b[0;31m---------------------------------------------------------------------------\u001b[0m",
      "\u001b[0;31mModuleNotFoundError\u001b[0m                       Traceback (most recent call last)",
      "\u001b[0;32m<ipython-input-1-0aa0b027fcb6>\u001b[0m in \u001b[0;36m<module>\u001b[0;34m\u001b[0m\n\u001b[0;32m----> 1\u001b[0;31m \u001b[0;32mimport\u001b[0m \u001b[0mnumpy\u001b[0m \u001b[0;32mas\u001b[0m \u001b[0mnp\u001b[0m\u001b[0;34m\u001b[0m\u001b[0;34m\u001b[0m\u001b[0m\n\u001b[0m",
      "\u001b[0;31mModuleNotFoundError\u001b[0m: No module named 'numpy'"
     ]
    }
   ],
   "source": [
    "import numpy as np"
   ]
  },
  {
   "cell_type": "code",
   "execution_count": 7,
   "metadata": {},
   "outputs": [
    {
     "name": "stdout",
     "output_type": "stream",
     "text": [
      "OrderedDict([('proc0', OrderedDict([('processor', '0'), ('vendor_id', 'GenuineIntel'), ('cpu family', '6'), ('model', '94'), ('model name', 'Intel(R) Xeon(R) Gold 6148 CPU @ 2.40GHz'), ('stepping', '3'), ('microcode', '0x1'), ('cpu MHz', '2399.998'), ('cache size', '28160 KB'), ('physical id', '0'), ('siblings', '1'), ('core id', '0'), ('cpu cores', '1'), ('apicid', '0'), ('initial apicid', '0'), ('fpu', 'yes'), ('fpu_exception', 'yes'), ('cpuid level', '13'), ('wp', 'yes'), ('flags', 'fpu vme de pse tsc msr pae mce cx8 apic sep mtrr pge mca cmov pat pse36 clflush mmx fxsr sse sse2 ss syscall nx pdpe1gb rdtscp lm constant_tsc rep_good nopl cpuid tsc_known_freq pni pclmulqdq ssse3 fma cx16 pcid sse4_1 sse4_2 x2apic movbe popcnt tsc_deadline_timer aes xsave avx f16c rdrand hypervisor lahf_lm abm 3dnowprefetch invpcid_single pti fsgsbase bmi1 hle avx2 smep bmi2 erms invpcid rtm mpx avx512f avx512dq rdseed adx smap avx512cd avx512bw avx512vl xsaveopt xsavec xgetbv1 arat'), ('bugs', 'cpu_meltdown spectre_v1 spectre_v2 spec_store_bypass l1tf mds swapgs taa itlb_multihit srbds'), ('bogomips', '4799.99'), ('clflush size', '64'), ('cache_alignment', '64'), ('address sizes', '46 bits physical, 48 bits virtual'), ('power management', '')]))]) ------------------- OrderedDict([('MemTotal', '1877060 kB'), ('MemFree', '835288 kB'), ('MemAvailable', '975612 kB'), ('Buffers', '31288 kB'), ('Cached', '229380 kB'), ('SwapCached', '0 kB'), ('Active', '781756 kB'), ('Inactive', '142820 kB'), ('Active(anon)', '664392 kB'), ('Inactive(anon)', '5820 kB'), ('Active(file)', '117364 kB'), ('Inactive(file)', '137000 kB'), ('Unevictable', '0 kB'), ('Mlocked', '0 kB'), ('SwapTotal', '0 kB'), ('SwapFree', '0 kB'), ('Dirty', '1164 kB'), ('Writeback', '0 kB'), ('AnonPages', '663908 kB'), ('Mapped', '115316 kB'), ('Shmem', '6304 kB'), ('Slab', '65368 kB'), ('SReclaimable', '33484 kB'), ('SUnreclaim', '31884 kB'), ('KernelStack', '4032 kB'), ('PageTables', '13268 kB'), ('NFS_Unstable', '0 kB'), ('Bounce', '0 kB'), ('WritebackTmp', '0 kB'), ('CommitLimit', '938528 kB'), ('Committed_AS', '1977956 kB'), ('VmallocTotal', '34359738367 kB'), ('VmallocUsed', '0 kB'), ('VmallocChunk', '0 kB'), ('HardwareCorrupted', '0 kB'), ('AnonHugePages', '0 kB'), ('ShmemHugePages', '0 kB'), ('ShmemPmdMapped', '0 kB'), ('CmaTotal', '0 kB'), ('CmaFree', '0 kB'), ('HugePages_Total', '0'), ('HugePages_Free', '0'), ('HugePages_Rsvd', '0'), ('HugePages_Surp', '0'), ('Hugepagesize', '2048 kB'), ('DirectMap4k', '278392 kB'), ('DirectMap2M', '1818624 kB'), ('DirectMap1G', '0 kB')])\n"
     ]
    }
   ],
   "source": [
    "# https://blog.csdn.net/richerg85/article/details/17594059\n",
    "# get cpu info\n",
    "\n",
    "from collections import OrderedDict\n",
    " \n",
    "def CPUinfo():\n",
    "    '''Return the info in /proc/cpuinfo\n",
    "    as a dirctionary in the follow format:\n",
    "    CPU_info['proc0']={...}\n",
    "    CPU_info['proc1']={...}\n",
    "    '''\n",
    "    \n",
    "    CPUinfo=OrderedDict()\n",
    "    procinfo=OrderedDict()\n",
    " \n",
    "    nprocs = 0\n",
    "    with open('/proc/cpuinfo') as f:\n",
    "        for line in f:\n",
    "            if not line.strip():\n",
    "                #end of one processor\n",
    "                CPUinfo['proc%s' % nprocs]=procinfo\n",
    "                nprocs = nprocs+1\n",
    "                #Reset\n",
    "                procinfo=OrderedDict()\n",
    "            else:\n",
    "                if len(line.split(':')) == 2:\n",
    "                    procinfo[line.split(':')[0].strip()] = line.split(':')[1].strip()\n",
    "                else:\n",
    "                    procinfo[line.split(':')[0].strip()] = ''\n",
    "    return CPUinfo\n",
    "\n",
    "\n",
    "def meminfo():\n",
    "    '''return the info of /proc/meminfo\n",
    "    as a dictionary\n",
    "    '''\n",
    "    meminfo = OrderedDict()\n",
    " \n",
    "    with open('/proc/meminfo') as f:\n",
    "        for line in f:\n",
    "            meminfo[line.split(':')[0]] = line.split(':')[1].strip()\n",
    "    return meminfo\n",
    "\n",
    "# ————————————————\n",
    "# 版权声明：本文为CSDN博主「richerg85」的原创文章，遵循CC 4.0 BY-SA版权协议，转载请附上原文出处链接及本声明。\n",
    "# 原文链接：https://blog.csdn.net/richerg85/article/details/17594059\n",
    "\n",
    "\n",
    "\n",
    "print(CPUinfo(),\"-------------------\",meminfo() )\n",
    "# for processor in CPUinfo.keys():\n",
    "#     print('CPUinfo[{0}]={1}'.format(processor,CPUinfo[processor]['model name']))\n",
    "\n",
    "\n"
   ]
  },
  {
   "cell_type": "code",
   "execution_count": 2,
   "metadata": {},
   "outputs": [
    {
     "data": {
      "text/plain": "'1877060 kB'"
     },
     "execution_count": 2,
     "metadata": {},
     "output_type": "execute_result"
    }
   ],
   "source": [
    "\n",
    "meminfo()[\"MemAvailable\"]\n",
    "meminfo()[\"MemTotal\"]\n",
    "\n",
    "\n"
   ]
  },
  {
   "cell_type": "code",
   "execution_count": 6,
   "metadata": {},
   "outputs": [
    {
     "data": {
      "text/plain": "0.5219225810576114"
     },
     "execution_count": 6,
     "metadata": {},
     "output_type": "execute_result"
    }
   ],
   "source": [
    "ratio=int(meminfo()[\"MemAvailable\"].replace(\"kB\",\"\"))/int(meminfo()[\"MemTotal\"].replace(\"kB\",\"\"))\n",
    "ratio"
   ]
  },
  {
   "cell_type": "code",
   "execution_count": 15,
   "metadata": {},
   "outputs": [
    {
     "data": {
      "text/plain": "'2399.998'"
     },
     "execution_count": 15,
     "metadata": {},
     "output_type": "execute_result"
    }
   ],
   "source": [
    "CPUinfo()['proc0'][\"cpu MHz\"]\n"
   ]
  },
  {
   "cell_type": "code",
   "execution_count": 16,
   "metadata": {},
   "outputs": [],
   "source": [
    "import time\n",
    "import re\n",
    "import datetime\n",
    "s=time.ctime()"
   ]
  },
  {
   "cell_type": "code",
   "execution_count": 37,
   "metadata": {},
   "outputs": [
    {
     "data": {
      "text/plain": "21"
     },
     "execution_count": 37,
     "metadata": {},
     "output_type": "execute_result"
    }
   ],
   "source": [
    "datetime.datetime.now().year\n",
    "datetime.datetime.now().month\n",
    "datetime.datetime.now().date\n",
    "datetime.datetime.now().hour\n",
    "datetime.datetime.now().minute"
   ]
  },
  {
   "cell_type": "code",
   "execution_count": 64,
   "metadata": {},
   "outputs": [],
   "source": [
    "def get_cpu_memory_percent_data():\n",
    "    l=[]\n",
    "\n",
    "    with open(\"/home/ubuntu/pluto/myPage/myScript/mysite/server_status.txt\",\"r\") as f:\n",
    "        s=f.readline()\n",
    "        while(s):\n",
    "            l.append(s.replace(\"\\n\",\"\").split(\" \"))\n",
    "            s=f.readline()\n",
    "    \n",
    "    return JsonResponse(l,safe=False,json_dumps_params={'ensure_ascii':False})\n",
    "\n",
    "\n",
    "        \n",
    "\n",
    "\n"
   ]
  },
  {
   "cell_type": "code",
   "execution_count": 68,
   "metadata": {},
   "outputs": [],
   "source": [
    "l.reverse()"
   ]
  },
  {
   "cell_type": "code",
   "execution_count": 69,
   "metadata": {},
   "outputs": [
    {
     "data": {
      "text/plain": "[['2021-5-7', '22:31', '68.7', '5.0'],\n ['2021-5-7', '22:31', '68.7', '3.0'],\n ['2021-5-7', '22:30', '68.7', '4.0'],\n ['2021-5-7', '22:30', '68.8', '4.0'],\n ['2021-5-7', '22:30', '68.8', '11.1'],\n ['2021-5-7', '22:30', '68.8', '4.0'],\n ['2021-5-7', '22:30', '68.7', '3.0'],\n ['2021-5-7', '22:30', '68.7', '5.0'],\n ['2021-5-7', '22:30', '68.6', '4.1'],\n ['2021-5-7', '22:30', '68.7', '10.9'],\n ['2021-5-7', '22:30', '68.7', '5.1'],\n ['2021-5-7', '22:30', '68.7', '3.0'],\n ['2021-5-7', '22:30', '68.8', '7.1'],\n ['2021-5-7', '22:30', '68.7', '5.9']]"
     },
     "execution_count": 69,
     "metadata": {},
     "output_type": "execute_result"
    }
   ],
   "source": [
    "l"
   ]
  },
  {
   "cell_type": "code",
   "execution_count": 58,
   "metadata": {},
   "outputs": [
    {
     "ename": "IndexError",
     "evalue": "list index out of range",
     "output_type": "error",
     "traceback": [
      "\u001b[0;31m---------------------------------------------------------------------------\u001b[0m",
      "\u001b[0;31mIndexError\u001b[0m                                Traceback (most recent call last)",
      "\u001b[0;32m<ipython-input-58-5bbd56af40bb>\u001b[0m in \u001b[0;36m<module>\u001b[0;34m\u001b[0m\n\u001b[0;32m----> 1\u001b[0;31m \u001b[0ms\u001b[0m\u001b[0;34m=\u001b[0m\u001b[0ml\u001b[0m\u001b[0;34m[\u001b[0m\u001b[0;34m-\u001b[0m\u001b[0;36m2\u001b[0m\u001b[0;34m]\u001b[0m\u001b[0;34m\u001b[0m\u001b[0;34m\u001b[0m\u001b[0m\n\u001b[0m\u001b[1;32m      2\u001b[0m \u001b[0ms\u001b[0m\u001b[0;34m.\u001b[0m\u001b[0mreplace\u001b[0m\u001b[0;34m(\u001b[0m\u001b[0;34m\"\\n\"\u001b[0m\u001b[0;34m,\u001b[0m\u001b[0;34m\"\"\u001b[0m\u001b[0;34m)\u001b[0m\u001b[0;34m.\u001b[0m\u001b[0msplit\u001b[0m\u001b[0;34m(\u001b[0m\u001b[0;34m\" \"\u001b[0m\u001b[0;34m)\u001b[0m\u001b[0;34m\u001b[0m\u001b[0;34m\u001b[0m\u001b[0m\n",
      "\u001b[0;31mIndexError\u001b[0m: list index out of range"
     ]
    }
   ],
   "source": [
    "s=l[-2]\n",
    "s.replace(\"\\n\",\"\").split(\" \")"
   ]
  },
  {
   "cell_type": "code",
   "execution_count": 8,
   "metadata": {},
   "outputs": [
    {
     "name": "stdout",
     "output_type": "stream",
     "text": [
      "Collecting psutil\n",
      "  Downloading http://mirrors.tencentyun.com/pypi/packages/e1/b0/7276de53321c12981717490516b7e612364f2cb372ee8901bd4a66a000d7/psutil-5.8.0.tar.gz (470kB)\n",
      "\u001b[K    100% |████████████████████████████████| 471kB 2.4MB/s \n",
      "\u001b[?25hBuilding wheels for collected packages: psutil\n",
      "  Running setup.py bdist_wheel for psutil ... \u001b[?25ldone\n",
      "\u001b[?25h  Stored in directory: /home/ubuntu/.cache/pip/wheels/fb/40/85/d005dc2cbc3c12068c41ee1cf80dc2bf043108d72087363824\n",
      "Successfully built psutil\n",
      "Installing collected packages: psutil\n",
      "Successfully installed psutil-5.8.0\n",
      "Note: you may need to restart the kernel to use updated packages.\n"
     ]
    }
   ],
   "source": [
    "# %pip install psutil"
   ]
  }
 ],
 "metadata": {
  "kernelspec": {
   "display_name": "Python 3.6.9 64-bit",
   "metadata": {
    "interpreter": {
     "hash": "31f2aee4e71d21fbe5cf8b01ff0e069b9275f58929596ceb00d14d90e3e16cd6"
    }
   },
   "name": "python3"
  },
  "language_info": {
   "codemirror_mode": {
    "name": "ipython",
    "version": 3
   },
   "file_extension": ".py",
   "mimetype": "text/x-python",
   "name": "python",
   "nbconvert_exporter": "python",
   "pygments_lexer": "ipython3",
   "version": "3.6.9"
  },
  "orig_nbformat": 2
 },
 "nbformat": 4,
 "nbformat_minor": 2
}