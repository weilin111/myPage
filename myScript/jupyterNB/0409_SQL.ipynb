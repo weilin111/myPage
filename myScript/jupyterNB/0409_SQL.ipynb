{
 "cells": [
  {
   "cell_type": "code",
   "execution_count": 1,
   "metadata": {},
   "outputs": [],
   "source": [
    "import sqlite3"
   ]
  },
  {
   "cell_type": "code",
   "execution_count": 2,
   "metadata": {},
   "outputs": [],
   "source": [
    "# db.execute(\"select * from Test\")\r\n"
   ]
  },
  {
   "cell_type": "code",
   "execution_count": null,
   "metadata": {},
   "outputs": [],
   "source": [
    "\r\n"
   ]
  },
  {
   "cell_type": "code",
   "execution_count": 3,
   "metadata": {},
   "outputs": [],
   "source": [
    "def update_cool_db():\n",
    "    \n",
    "    db=sqlite3.connect(\"../mysite/db.sqlite3\")\n",
    "    cur=db.cursor()\n",
    "\n",
    "    # cur.fetchall()[0][1]\n",
    "\n",
    "    #从json导入\n",
    "\n",
    "    cur.execute(\"DELETE  FROM myDB_cool_knowledge \" )\n",
    "    \n",
    "    import json\n",
    "\n",
    "    with open(\"../cool.json\",\"r\",encoding=\"utf-8\") as f:\n",
    "        s=json.loads(f.read())\n",
    "\n",
    "    count=0\n",
    "    for i in s:\n",
    "        # print(i)\n",
    "        cur.execute(\"INSERT INTO myDB_cool_knowledge values(\"+str(count)+\",'\"+i+\"')\")\n",
    "        count+=1\n",
    "    cur.execute(\"SELECT * FROM myDB_cool_knowledge\")\n",
    "    # print(cur.fetchall())\n",
    "    db.commit()\n",
    "update_cool_db();"
   ]
  },
  {
   "cell_type": "code",
   "execution_count": null,
   "metadata": {},
   "outputs": [],
   "source": [
    "\r\n"
   ]
  },
  {
   "cell_type": "code",
   "execution_count": 13,
   "metadata": {},
   "outputs": [],
   "source": [
    "def get_cold_knowledge():\r\n",
    "    l=[]\r\n",
    "\r\n",
    "    def delete_head(s):\r\n",
    "        i=0\r\n",
    "        for c in s:\r\n",
    "            if c==\".\":\r\n",
    "                break\r\n",
    "            i+=1\r\n",
    "        return s[i+1:]\r\n",
    "\r\n",
    "    with open(r\"D:\\Seafile\\newCode\\myPage\\_posts\\2020-10-26-冷知识-post.md\",\"r\",encoding=\"utf-8\") as f:\r\n",
    "        s=f.readline()\r\n",
    "        while(s):\r\n",
    "            l.append(s)\r\n",
    "            s=f.readline()\r\n",
    "\r\n",
    "    res1=[]\r\n",
    "    res=[]\r\n",
    "    start=False\r\n",
    "    for i in l[1:]:\r\n",
    "        i=i.replace(\"\\n\",\"\")\r\n",
    "        if \"---\" in i:\r\n",
    "            start=True\r\n",
    "            continue\r\n",
    "        if start:\r\n",
    "            if i!=\"\":\r\n",
    "                res1.append(delete_head(i))\r\n",
    "    for i in res1:\r\n",
    "        if i=='' or i==\" \":\r\n",
    "            continue\r\n",
    "        res.append(i)\r\n",
    "    import json\r\n",
    "    j=json.dumps(res,ensure_ascii=False)\r\n",
    "    with open(\"cool111.json\",\"w\",encoding=\"utf-8\") as f:\r\n",
    "        f.write(j)"
   ]
  },
  {
   "cell_type": "code",
   "execution_count": 5,
   "metadata": {},
   "outputs": [],
   "source": [
    "db=sqlite3.connect(\"../mysite/db.sqlite3\")\n",
    "cur=db.cursor()\n",
    "cur.execute(\"DELETE  FROM myDB_visited_number \" )\n",
    "db.commit()\n",
    "\n",
    "\n"
   ]
  },
  {
   "cell_type": "code",
   "execution_count": null,
   "metadata": {},
   "outputs": [],
   "source": [
    "db=sqlite3.connect(\"../mysite/db.sqlite3\")\n",
    "cur=db.cursor()\n"
   ]
  },
  {
   "cell_type": "code",
   "execution_count": 2,
   "metadata": {},
   "outputs": [],
   "source": [
    "base_url=\"../../style/image\"\n",
    "namelist=[]\n",
    "def get_list(dir_name):\n",
    "    a=os.listdir(dir_name)\n",
    "    for i in a:\n",
    "        if \".\" not in i:\n",
    "            if \"logo\" in i:\n",
    "                continue\n",
    "            get_list(dir_name+\"/\"+i)\n",
    "        else:\n",
    "            namelist.append(dir_name+\"/\"+i)\n",
    "get_list(base_url)\n",
    "namelist2=[]\n",
    "for i in namelist:\n",
    "    namelist2.append(os.path.abspath(i))\n",
    "namelist2[:20]\n",
    "import json\n",
    "with open(\"../mysite/cache/pic.json\",\"w\",encoding=\"utf-8\") as f:\n",
    "    json.dump(namelist2,f,ensure_ascii=False)"
   ]
  },
  {
   "cell_type": "code",
   "execution_count": 47,
   "metadata": {},
   "outputs": [
    {
     "name": "stdout",
     "output_type": "stream",
     "text": [
      "/home/ubuntu/pluto/myPage/myScript/mysite/cache/pic.json\n"
     ]
    }
   ],
   "source": [
    "print(os.path.abspath(\"../mysite/cache/pic.json\"))"
   ]
  },
  {
   "cell_type": "code",
   "execution_count": 50,
   "metadata": {},
   "outputs": [],
   "source": [
    "with open(\"../mysite/cache/pic.json\",\"r\",encoding=\"utf-8\") as f:\n",
    "    b=json.load(f)\n",
    "\n"
   ]
  },
  {
   "cell_type": "code",
   "execution_count": 57,
   "metadata": {},
   "outputs": [
    {
     "ename": "FileNotFoundError",
     "evalue": "[Errno 2] No such file or directory: '/home/ubuntu/pluto/style/image/Twitter/6-166.jpg'",
     "output_type": "error",
     "traceback": [
      "\u001b[0;31m---------------------------------------------------------------------------\u001b[0m",
      "\u001b[0;31mFileNotFoundError\u001b[0m                         Traceback (most recent call last)",
      "\u001b[0;32m<ipython-input-57-0c10e0d1cfe2>\u001b[0m in \u001b[0;36m<module>\u001b[0;34m\u001b[0m\n\u001b[1;32m      3\u001b[0m     \u001b[0mb\u001b[0m\u001b[0;34m=\u001b[0m\u001b[0mjson\u001b[0m\u001b[0;34m.\u001b[0m\u001b[0mload\u001b[0m\u001b[0;34m(\u001b[0m\u001b[0mf\u001b[0m\u001b[0;34m)\u001b[0m\u001b[0;34m\u001b[0m\u001b[0;34m\u001b[0m\u001b[0m\n\u001b[1;32m      4\u001b[0m \u001b[0mname\u001b[0m\u001b[0;34m=\u001b[0m\u001b[0mb\u001b[0m\u001b[0;34m[\u001b[0m\u001b[0mrandom\u001b[0m\u001b[0;34m.\u001b[0m\u001b[0mrandint\u001b[0m\u001b[0;34m(\u001b[0m\u001b[0;36m0\u001b[0m\u001b[0;34m,\u001b[0m\u001b[0mlen\u001b[0m\u001b[0;34m(\u001b[0m\u001b[0mb\u001b[0m\u001b[0;34m)\u001b[0m\u001b[0;34m-\u001b[0m\u001b[0;36m1\u001b[0m\u001b[0;34m)\u001b[0m\u001b[0;34m]\u001b[0m\u001b[0;34m\u001b[0m\u001b[0;34m\u001b[0m\u001b[0m\n\u001b[0;32m----> 5\u001b[0;31m \u001b[0mimage_data\u001b[0m\u001b[0;34m=\u001b[0m\u001b[0mopen\u001b[0m\u001b[0;34m(\u001b[0m\u001b[0mname\u001b[0m\u001b[0;34m,\u001b[0m\u001b[0;34m\"rb\"\u001b[0m\u001b[0;34m)\u001b[0m\u001b[0;34m.\u001b[0m\u001b[0mread\u001b[0m\u001b[0;34m(\u001b[0m\u001b[0;34m)\u001b[0m\u001b[0;34m\u001b[0m\u001b[0;34m\u001b[0m\u001b[0m\n\u001b[0m",
      "\u001b[0;31mFileNotFoundError\u001b[0m: [Errno 2] No such file or directory: '/home/ubuntu/pluto/style/image/Twitter/6-166.jpg'"
     ]
    }
   ],
   "source": [
    "import random\n",
    "with open(\"/home/ubuntu/pluto/myPage/myScript/mysite/cache/pic.json\",\"r\",encoding=\"utf-8\") as f:\n",
    "    b=json.load(f)\n",
    "name=b[random.randint(0,len(b)-1)]\n",
    "image_data=open(name,\"rb\").read()"
   ]
  }
 ],
 "metadata": {
  "kernelspec": {
   "display_name": "Python 3.6.9 64-bit",
   "metadata": {
    "interpreter": {
     "hash": "31f2aee4e71d21fbe5cf8b01ff0e069b9275f58929596ceb00d14d90e3e16cd6"
    }
   },
   "name": "python3"
  },
  "language_info": {
   "codemirror_mode": {
    "name": "ipython",
    "version": 3
   },
   "file_extension": ".py",
   "mimetype": "text/x-python",
   "name": "python",
   "nbconvert_exporter": "python",
   "pygments_lexer": "ipython3",
   "version": "3.6.9"
  },
  "orig_nbformat": 2
 },
 "nbformat": 4,
 "nbformat_minor": 2
}