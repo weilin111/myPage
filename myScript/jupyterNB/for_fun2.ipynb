{
 "cells": [
  {
   "cell_type": "code",
   "execution_count": 2,
   "metadata": {},
   "outputs": [],
   "source": [
    "import numpy as np\r\n",
    "import matplotlib.pyplot as plt"
   ]
  },
  {
   "cell_type": "code",
   "execution_count": 23,
   "metadata": {},
   "outputs": [
    {
     "name": "stdout",
     "output_type": "stream",
     "text": [
      "T_e:  2.4374425760610468e-11\n",
      "T_alpha:  1.949954060848838e-07\n",
      "T_rf:  5.3333333333333334e-08\n",
      "9!:  362880\n"
     ]
    }
   ],
   "source": [
    "# ACCELARATOR CALCULATE\r\n",
    "m_e = 9e-31\r\n",
    "B=1.45\r\n",
    "q=1.6e-19\r\n",
    "c=3e8\r\n",
    "print(\"T_e:  \"+ str(2*np.pi*m_e/B/q) )\r\n",
    "print(\"T_alpha:  \"+ str(2*np.pi*m_e*8000/B/q) )\r\n",
    "\r\n",
    "print( \"T_rf:  \"+str(1/(c/16))  )\r\n",
    "print(\"9!:  \" +str(2*3*4*5*6*7*8*9))"
   ]
  },
  {
   "cell_type": "code",
   "execution_count": null,
   "metadata": {},
   "outputs": [],
   "source": [
    "# FINITE STATE MACHINE\r\n",
    "\r\n",
    "\r\n"
   ]
  },
  {
   "cell_type": "code",
   "execution_count": null,
   "metadata": {},
   "outputs": [],
   "source": [
    "# \r\n",
    "\r\n",
    "\r\n"
   ]
  }
 ],
 "metadata": {
  "kernelspec": {
   "display_name": "Python 3.7.9 64-bit",
   "metadata": {
    "interpreter": {
     "hash": "3f0cb4b7ec2a3cc8e7c05ef3e5c5bb10d3fb0a64abe290921e1409a914263d2f"
    }
   },
   "name": "python3"
  },
  "language_info": {
   "codemirror_mode": {
    "name": "ipython",
    "version": 3
   },
   "file_extension": ".py",
   "mimetype": "text/x-python",
   "name": "python",
   "nbconvert_exporter": "python",
   "pygments_lexer": "ipython3",
   "version": "3.7.9"
  },
  "orig_nbformat": 2
 },
 "nbformat": 4,
 "nbformat_minor": 2
}