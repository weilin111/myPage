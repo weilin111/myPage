{
 "cells": [
  {
   "cell_type": "code",
   "execution_count": 1,
   "source": [
    "import os"
   ],
   "outputs": [],
   "metadata": {}
  },
  {
   "cell_type": "code",
   "execution_count": 6,
   "source": [
    "main_dir=\"/home/ubuntu/weilin/1_Playground\"\n",
    "file_list=os.listdir(main_dir)\n",
    "now_dir=\"\"\n",
    "\n",
    "def get_json_file_list(dir):\n",
    "    l=os.listdir(dir)\n",
    "    l2=[]\n",
    "    for i in l:\n",
    "        if \".json\" in i:\n",
    "            l2.append(i)\n",
    "    return l2\n",
    "\n",
    "def get_file_list(dir):\n",
    "    l=os.listdir(dir)\n",
    "    l2=[]\n",
    "    for i in l:\n",
    "        if not \".json\" in i:\n",
    "            l2.append(i)\n",
    "    return l2\n",
    "\n",
    "\n",
    "\n"
   ],
   "outputs": [],
   "metadata": {}
  },
  {
   "cell_type": "code",
   "execution_count": 10,
   "source": [
    "get_file_list(main_dir)"
   ],
   "outputs": [
    {
     "output_type": "execute_result",
     "data": {
      "text/plain": [
       "['cal_4-30.ipynb',\n",
       " 'prl.ipynb',\n",
       " 'acm_graphics.ipynb',\n",
       " 'acm-exp-algo',\n",
       " 'acm-jacm',\n",
       " 'acm-graphics',\n",
       " 'Recent_PRL',\n",
       " 'THUlib_new_book',\n",
       " 'acm-tranc-algo',\n",
       " 'PRAB',\n",
       " 'acm_exp_algo.ipynb',\n",
       " 'PRL_data',\n",
       " 'acm_tranc_alg0.ipynb',\n",
       " 'acm_jacm.ipynb',\n",
       " 'feed_item.ipynb']"
      ]
     },
     "metadata": {},
     "execution_count": 10
    }
   ],
   "metadata": {}
  },
  {
   "cell_type": "code",
   "execution_count": 9,
   "source": [
    "get_json_file_list(main_dir+'/PRAB')"
   ],
   "outputs": [
    {
     "output_type": "execute_result",
     "data": {
      "text/plain": [
       "['volome10.json',\n",
       " 'volome8.json',\n",
       " 'volome11.json',\n",
       " 'volome22.json',\n",
       " 'volome4.json',\n",
       " 'volome18.json',\n",
       " 'volome9.json',\n",
       " 'volome2.json',\n",
       " 'volome1.json',\n",
       " 'volome3.json',\n",
       " 'volome21.json',\n",
       " 'volome14.json',\n",
       " 'volome13.json',\n",
       " 'volome6.json',\n",
       " 'volome12.json',\n",
       " 'volome15.json',\n",
       " 'volome5.json',\n",
       " 'volome19.json',\n",
       " 'volome24.json',\n",
       " 'volome20.json',\n",
       " 'volome17.json',\n",
       " 'volome23.json',\n",
       " 'volome7.json',\n",
       " 'volome16.json']"
      ]
     },
     "metadata": {},
     "execution_count": 9
    }
   ],
   "metadata": {}
  },
  {
   "cell_type": "code",
   "execution_count": null,
   "source": [],
   "outputs": [],
   "metadata": {}
  }
 ],
 "metadata": {
  "orig_nbformat": 4,
  "language_info": {
   "name": "python"
  }
 },
 "nbformat": 4,
 "nbformat_minor": 2
}