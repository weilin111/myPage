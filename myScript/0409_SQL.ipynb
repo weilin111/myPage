{
 "cells": [
  {
   "cell_type": "code",
   "execution_count": 1,
   "metadata": {},
   "outputs": [],
   "source": [
    "import sqlite3\r\n",
    "db=sqlite3.connect(\"./mysite/db.sqlite3\")"
   ]
  },
  {
   "cell_type": "code",
   "execution_count": 22,
   "metadata": {},
   "outputs": [],
   "source": [
    "# db.execute(\"select * from Test\")\r\n",
    "cur=db.cursor()\r\n",
    "dir(cur);"
   ]
  },
  {
   "cell_type": "code",
   "execution_count": 3,
   "metadata": {},
   "outputs": [
    {
     "name": "stdout",
     "output_type": "stream",
     "text": [
      "[('django_migrations',), ('sqlite_sequence',), ('auth_group_permissions',), ('auth_user_groups',), ('auth_user_user_permissions',), ('django_admin_log',), ('django_content_type',), ('auth_permission',), ('auth_group',), ('auth_user',), ('django_session',), ('nuclear_data_test',), ('nuclear_data_test2',)]\n"
     ]
    }
   ],
   "source": [
    "cur.execute(\"SELECT name FROM sqlite_master WHERE type='table' \")\r\n",
    "print(cur.fetchall())\r\n"
   ]
  },
  {
   "cell_type": "code",
   "execution_count": 4,
   "metadata": {},
   "outputs": [
    {
     "name": "stdout",
     "output_type": "stream",
     "text": [
      "[(1, 'sirius', 0.9380973807915814), (2, 'sirius', 0.6402220143475321), (3, 'sirius', 0.8523421535333667), (4, 'sirius', 0.6469701085208229), (5, 'sirius', 0.8762887113514456), (6, 'sirius', 0.5111066341178963), (7, 'sirius', 0.21586489082927607), (8, 'sirius', 0.9653619787146926), (9, 'sirius', 0.907923344663742), (10, 'sirius', 0.7105826276917065), (11, 'sirius', 0.7224976715354221), (12, 'sirius', 0.9098905315160686)]\n"
     ]
    }
   ],
   "source": [
    "cur.execute(\"SELECT * FROM nuclear_data_test2\")\r\n",
    "print(cur.fetchall())"
   ]
  },
  {
   "cell_type": "code",
   "execution_count": 18,
   "metadata": {},
   "outputs": [],
   "source": [
    "def get_cold_knowledge():\r\n",
    "    l=[]\r\n",
    "\r\n",
    "    def delete_head(s):\r\n",
    "        i=0\r\n",
    "        for c in s:\r\n",
    "            if c==\".\":\r\n",
    "                break\r\n",
    "            i+=1\r\n",
    "        return s[i+1:]\r\n",
    "\r\n",
    "    with open(r\"D:\\Seafile\\newCode\\myPage\\_posts\\2020-10-26-冷知识-post.md\",\"r\",encoding=\"utf-8\") as f:\r\n",
    "        s=f.readline()\r\n",
    "        while(s):\r\n",
    "            l.append(s)\r\n",
    "            s=f.readline()\r\n",
    "\r\n",
    "    res1=[]\r\n",
    "    res=[]\r\n",
    "    start=False\r\n",
    "    for i in l[1:]:\r\n",
    "        i=i.replace(\"\\n\",\"\")\r\n",
    "        if \"---\" in i:\r\n",
    "            start=True\r\n",
    "            continue\r\n",
    "        if start:\r\n",
    "            if i!=\"\":\r\n",
    "                res1.append(delete_head(i))\r\n",
    "    for i in res1:\r\n",
    "        if i=='' or i==\" \":\r\n",
    "            continue\r\n",
    "        res.append(i)\r\n",
    "    return res"
   ]
  },
  {
   "cell_type": "code",
   "execution_count": 20,
   "metadata": {},
   "outputs": [
    {
     "data": {
      "text/plain": "186"
     },
     "execution_count": 20,
     "metadata": {},
     "output_type": "execute_result"
    }
   ],
   "source": [
    "res=get_cold_knowledge()\r\n",
    "len(res)"
   ]
  },
  {
   "cell_type": "code",
   "execution_count": 27,
   "metadata": {},
   "outputs": [],
   "source": [
    "import json\r\n",
    "j=json.dumps(res,ensure_ascii=False)\r\n",
    "with open(\"cool.json\",\"w\",encoding=\"utf-8\") as f:\r\n",
    "    f.write(j)\r\n"
   ]
  }
 ],
 "metadata": {
  "kernelspec": {
   "display_name": "Python 3.7.9 64-bit",
   "metadata": {
    "interpreter": {
     "hash": "10c0a1e876e0e0993c3531dd5de97bfbe23090df4055fafd2d6e77bc493287fd"
    }
   },
   "name": "python3"
  },
  "language_info": {
   "codemirror_mode": {
    "name": "ipython",
    "version": 3
   },
   "file_extension": ".py",
   "mimetype": "text/x-python",
   "name": "python",
   "nbconvert_exporter": "python",
   "pygments_lexer": "ipython3",
   "version": "3.7.9"
  },
  "orig_nbformat": 2
 },
 "nbformat": 4,
 "nbformat_minor": 2
}