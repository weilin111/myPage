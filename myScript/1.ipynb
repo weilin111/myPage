{
 "cells": [
  {
   "cell_type": "code",
   "execution_count": 3,
   "metadata": {},
   "outputs": [],
   "source": [
    "import os"
   ]
  },
  {
   "cell_type": "code",
   "execution_count": 3,
   "metadata": {},
   "outputs": [
    {
     "data": {
      "text/plain": "['![png](\\\\myPage\\\\style\\\\image\\\\luluco/1463717011_1_10_9722e1161c9e208d73eafd4a157694f4.jpg)',\n '![png](\\\\myPage\\\\style\\\\image\\\\luluco/1466158288_2_10_6a5da7ec1b9f22d2bd4b7bc18cdb55e4.jpg)',\n '![png](\\\\myPage\\\\style\\\\image\\\\luluco/20885002_1_d2.jpg)',\n '![png](\\\\myPage\\\\style\\\\image\\\\luluco/20885003_1_d2.jpg)',\n '![png](\\\\myPage\\\\style\\\\image\\\\luluco/710649.jpg)',\n '![png](\\\\myPage\\\\style\\\\image\\\\luluco/936ebb83.jpg)',\n '![png](\\\\myPage\\\\style\\\\image\\\\luluco/OIP.jpg)',\n '![png](\\\\myPage\\\\style\\\\image\\\\luluco/下载.jpg)']"
     },
     "execution_count": 3,
     "metadata": {},
     "output_type": "execute_result"
    }
   ],
   "source": [
    "# 得到 md当中 插入图片的语句 插入某文件夹当中所有文件并写入 md\r\n",
    "\r\n",
    "\r\n",
    "\r\n",
    "dirname=\"../style/image/luluco\"\r\n",
    "table=os.listdir(dirname)\r\n",
    "final_Strings=[]\r\n",
    "\r\n",
    "path_head=\"\\myPage\\style\\image\\luluco/\"\r\n",
    "\r\n",
    "def inner(s):\r\n",
    "    return \"![png](\"+s+\")\"\r\n",
    "\r\n",
    "for i in table:\r\n",
    "    final_Strings.append(inner(path_head+i))    \r\n",
    "\r\n",
    "\r\n",
    "final_Strings"
   ]
  },
  {
   "cell_type": "code",
   "execution_count": null,
   "metadata": {},
   "outputs": [],
   "source": [
    "# ![png]({{'/style/image/' | prepend : site.baseurl }})"
   ]
  },
  {
   "cell_type": "code",
   "execution_count": 6,
   "metadata": {},
   "outputs": [],
   "source": [
    "#更新读书摘\r\n",
    "\r\n",
    "header=[\"---\",\r\n",
    "\"layout: post\",\r\n",
    "\"title: 读书摘\",\r\n",
    "\"date: 2020-12-21 00:00:00 +0800\",\r\n",
    "\"category: (^\\^) windows\",\r\n",
    "\"thumbnail: style/image/Twitter/1-60.jpg\",\r\n",
    "\"icon: book\",\r\n",
    "\"---\"]\r\n",
    "\r\n",
    "import os\r\n",
    "dirname=\"../style/image/书摘\"\r\n",
    "table=os.listdir(dirname)\r\n",
    "filename=os.path.join(dirname,table[0])\r\n",
    "# ![png]({{ '/style/image/书摘/IMG_20210216_173839_0004.PNG' | prepend: site.baseurl }}\r\n",
    "# )\r\n",
    "def inner(s):\r\n",
    "    return \"![png]({{'\"+s+\" ' | prepend : site.baseurl }})\"\r\n",
    "l=[]\r\n",
    "dirname=\"/style/image/书摘/\"\r\n",
    "for i in table:\r\n",
    "    filename=dirname+i\r\n",
    "    l.append(inner(filename))\r\n",
    "l.reverse()\r\n",
    "\r\n",
    "md_name=\"../_posts/2021-03-01-读书摘1-post.md\"\r\n",
    "\r\n",
    "with open(md_name,\"w\",encoding=\"utf-8\") as f:\r\n",
    "    for i in header:\r\n",
    "        f.write(i+\"\\n\")\r\n",
    "    f.write(\"\\n\")\r\n",
    "    f.write(\"\\n\")\r\n",
    "    for i in l:\r\n",
    "        f.write(i+\"\\n\")\r\n",
    "\r\n"
   ]
  },
  {
   "cell_type": "code",
   "execution_count": 4,
   "metadata": {},
   "outputs": [
    {
     "data": {
      "text/plain": "1"
     },
     "execution_count": 4,
     "metadata": {},
     "output_type": "execute_result"
    }
   ],
   "source": [
    "a=[0,1,3,4]\r\n",
    "a.pop(2)\r\n",
    "a\r\n",
    "5%2"
   ]
  },
  {
   "cell_type": "code",
   "execution_count": 5,
   "metadata": {},
   "outputs": [
    {
     "data": {
      "text/plain": "2"
     },
     "execution_count": 5,
     "metadata": {},
     "output_type": "execute_result"
    }
   ],
   "source": [
    "len([1,2])"
   ]
  },
  {
   "cell_type": "code",
   "execution_count": 6,
   "metadata": {},
   "outputs": [],
   "source": [
    "a.sort()"
   ]
  },
  {
   "cell_type": "code",
   "execution_count": 7,
   "metadata": {},
   "outputs": [
    {
     "data": {
      "text/plain": "[0, 1, 4]"
     },
     "execution_count": 7,
     "metadata": {},
     "output_type": "execute_result"
    }
   ],
   "source": [
    "a"
   ]
  },
  {
   "cell_type": "code",
   "execution_count": 8,
   "metadata": {},
   "outputs": [
    {
     "data": {
      "text/plain": "2"
     },
     "execution_count": 8,
     "metadata": {},
     "output_type": "execute_result"
    }
   ],
   "source": [
    "int(5/2)"
   ]
  },
  {
   "cell_type": "code",
   "execution_count": 9,
   "metadata": {},
   "outputs": [
    {
     "data": {
      "text/plain": "2.5"
     },
     "execution_count": 9,
     "metadata": {},
     "output_type": "execute_result"
    }
   ],
   "source": [
    "5/2"
   ]
  },
  {
   "cell_type": "code",
   "execution_count": 12,
   "metadata": {},
   "outputs": [
    {
     "data": {
      "text/plain": "[-1, 2, 3]"
     },
     "execution_count": 12,
     "metadata": {},
     "output_type": "execute_result"
    }
   ],
   "source": [
    "a=[2,-1,3]\r\n",
    "a.sort()\r\n",
    "a"
   ]
  },
  {
   "cell_type": "code",
   "execution_count": 11,
   "metadata": {},
   "outputs": [
    {
     "data": {
      "text/plain": "[1, 2, 3]"
     },
     "execution_count": 11,
     "metadata": {},
     "output_type": "execute_result"
    }
   ],
   "source": [
    "a"
   ]
  },
  {
   "cell_type": "code",
   "execution_count": null,
   "metadata": {},
   "outputs": [],
   "source": []
  }
 ],
 "metadata": {
  "kernelspec": {
   "display_name": "Python 3",
   "language": "python",
   "name": "python3"
  },
  "language_info": {
   "codemirror_mode": {
    "name": "ipython",
    "version": 3
   },
   "file_extension": ".py",
   "mimetype": "text/x-python",
   "name": "python",
   "nbconvert_exporter": "python",
   "pygments_lexer": "ipython3",
   "version": "3.7.9"
  },
  "orig_nbformat": 2
 },
 "nbformat": 4,
 "nbformat_minor": 2
}