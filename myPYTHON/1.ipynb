{
 "cells": [
  {
   "cell_type": "code",
   "execution_count": 1,
   "metadata": {},
   "outputs": [],
   "source": [
    "import os\r\n",
    "\r\n",
    "\r\n"
   ]
  },
  {
   "cell_type": "code",
   "execution_count": 13,
   "metadata": {},
   "outputs": [],
   "source": [
    "# 删除掉文件夹的带 中 字的文件\r\n",
    "dirname=\"../style/image/Twitter\"\r\n",
    "table=os.listdir(dirname)\r\n",
    "filename=os.path.join(dirname,table[0])\r\n",
    "for i in table:\r\n",
    "    filename=os.path.join(dirname,i)\r\n",
    "    if \"中\" in filename:\r\n",
    "        print(\"1\")\r\n",
    "        os.remove(filename)"
   ]
  },
  {
   "cell_type": "code",
   "execution_count": 10,
   "metadata": {},
   "outputs": [
    {
     "data": {
      "text/plain": "[\"![jpg]('\\\\myPage\\\\style\\\\image\\\\书摘/IMG_20210202_174754_0001.PNG')\",\n \"![jpg]('\\\\myPage\\\\style\\\\image\\\\书摘/IMG_20210213_205419_0002.PNG')\",\n \"![jpg]('\\\\myPage\\\\style\\\\image\\\\书摘/IMG_20210213_205834_0003.PNG')\",\n \"![jpg]('\\\\myPage\\\\style\\\\image\\\\书摘/IMG_20210216_173839_0004.PNG')\",\n \"![jpg]('\\\\myPage\\\\style\\\\image\\\\书摘/IMG_20210216_175958_0005.PNG')\",\n \"![jpg]('\\\\myPage\\\\style\\\\image\\\\书摘/IMG_20210216_180452_0006.PNG')\",\n \"![jpg]('\\\\myPage\\\\style\\\\image\\\\书摘/IMG_20210217_214607_0007.PNG')\",\n \"![jpg]('\\\\myPage\\\\style\\\\image\\\\书摘/IMG_20210218_122959_0008.PNG')\",\n \"![jpg]('\\\\myPage\\\\style\\\\image\\\\书摘/屏幕截图 2021-02-04 120128.png')\",\n \"![jpg]('\\\\myPage\\\\style\\\\image\\\\书摘/屏幕截图 2021-02-07 151830.png')\",\n \"![jpg]('\\\\myPage\\\\style\\\\image\\\\书摘/屏幕截图 2021-02-09 121354.png')\",\n \"![jpg]('\\\\myPage\\\\style\\\\image\\\\书摘/屏幕截图 2021-02-09 212431.png')\",\n \"![jpg]('\\\\myPage\\\\style\\\\image\\\\书摘/屏幕截图 2021-02-09 214655.png')\",\n \"![jpg]('\\\\myPage\\\\style\\\\image\\\\书摘/屏幕截图 2021-02-14 012609.png')\",\n \"![jpg]('\\\\myPage\\\\style\\\\image\\\\书摘/屏幕截图 2021-02-17 140411.png')\",\n \"![jpg]('\\\\myPage\\\\style\\\\image\\\\书摘/屏幕截图 2021-02-18 142834.png')\",\n \"![jpg]('\\\\myPage\\\\style\\\\image\\\\书摘/屏幕截图 2021-02-18 144255.png')\",\n \"![jpg]('\\\\myPage\\\\style\\\\image\\\\书摘/屏幕截图 2021-02-18 145248.png')\",\n \"![jpg]('\\\\myPage\\\\style\\\\image\\\\书摘/屏幕截图 2021-02-18 150042.png')\",\n \"![jpg]('\\\\myPage\\\\style\\\\image\\\\书摘/屏幕截图 2021-02-18 150326.png')\",\n \"![jpg]('\\\\myPage\\\\style\\\\image\\\\书摘/屏幕截图 2021-02-18 150434.png')\",\n \"![jpg]('\\\\myPage\\\\style\\\\image\\\\书摘/屏幕截图 2021-02-18 165734.png')\",\n \"![jpg]('\\\\myPage\\\\style\\\\image\\\\书摘/屏幕截图 2021-02-20 103540.png')\"]"
     },
     "execution_count": 10,
     "metadata": {},
     "output_type": "execute_result"
    }
   ],
   "source": [
    "# 得到 md当中 插入图片的语句 插入某文件夹当中所有文件并写入 md\r\n",
    "\r\n",
    "dirname=\"../style/image/书摘\"\r\n",
    "table=os.listdir(dirname)\r\n",
    "final_Strings=[]\r\n",
    "\r\n",
    "path_head=\"\\myPage\\style\\image\\书摘/\"\r\n",
    "\r\n",
    "def inner(s):\r\n",
    "    return \"![jpg]('\"+s+\"')\"\r\n",
    "\r\n",
    "for i in table:\r\n",
    "    final_Strings.append(inner(path_head+i))    \r\n",
    "\r\n",
    "\r\n",
    "final_Strings"
   ]
  },
  {
   "cell_type": "code",
   "execution_count": null,
   "metadata": {},
   "outputs": [],
   "source": [
    "# 去除文件名当中的空格\r\n",
    "dirname=\"../style/image/书摘\"\r\n",
    "table=os.listdir(dirname)\r\n",
    "filename=os.path.join(dirname,table[0])\r\n",
    "for i in table:\r\n",
    "    filename=os.path.join(dirname,i)\r\n",
    "    if \"中\" in filename:\r\n",
    "        print(\"1\")\r\n",
    "        os.remove(filename)"
   ]
  }
 ],
 "metadata": {
  "kernelspec": {
   "display_name": "Python 3.7.9 64-bit",
   "metadata": {
    "interpreter": {
     "hash": "04b709fad6c1d56a84d41c5d056df1f7ecfe7bdb45f271dc484a32f5aeb467f2"
    }
   },
   "name": "python3"
  },
  "language_info": {
   "codemirror_mode": {
    "name": "ipython",
    "version": 3
   },
   "file_extension": ".py",
   "mimetype": "text/x-python",
   "name": "python",
   "nbconvert_exporter": "python",
   "pygments_lexer": "ipython3",
   "version": "3.7.9"
  },
  "orig_nbformat": 2
 },
 "nbformat": 4,
 "nbformat_minor": 2
}