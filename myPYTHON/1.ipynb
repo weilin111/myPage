{
 "cells": [
  {
   "cell_type": "code",
   "execution_count": 11,
   "metadata": {},
   "outputs": [
    {
     "data": {
      "text/plain": "'../style/image/Twitter\\\\1-1.jpg'"
     },
     "execution_count": 11,
     "metadata": {},
     "output_type": "execute_result"
    }
   ],
   "source": [
    "import os\r\n",
    "\r\n",
    "\r\n"
   ]
  },
  {
   "cell_type": "code",
   "execution_count": 13,
   "metadata": {},
   "outputs": [],
   "source": [
    "# 删除掉文件夹的带 中 字的文件\r\n",
    "dirname=\"../style/image/Twitter\"\r\n",
    "table=os.listdir(dirname)\r\n",
    "filename=os.path.join(dirname,table[0])\r\n",
    "for i in table:\r\n",
    "    filename=os.path.join(dirname,i)\r\n",
    "    if \"中\" in filename:\r\n",
    "        print(\"1\")\r\n",
    "        os.remove(filename)"
   ]
  },
  {
   "cell_type": "code",
   "execution_count": null,
   "metadata": {},
   "outputs": [],
   "source": [
    "# 得到 md当中 插入图片的语句 插入某文件夹当中所有文件并写入 md"
   ]
  }
 ],
 "metadata": {
  "kernelspec": {
   "display_name": "Python 3.7.9 64-bit",
   "metadata": {
    "interpreter": {
     "hash": "04b709fad6c1d56a84d41c5d056df1f7ecfe7bdb45f271dc484a32f5aeb467f2"
    }
   },
   "name": "python3"
  },
  "language_info": {
   "codemirror_mode": {
    "name": "ipython",
    "version": 3
   },
   "file_extension": ".py",
   "mimetype": "text/x-python",
   "name": "python",
   "nbconvert_exporter": "python",
   "pygments_lexer": "ipython3",
   "version": "3.7.9"
  },
  "orig_nbformat": 2
 },
 "nbformat": 4,
 "nbformat_minor": 2
}